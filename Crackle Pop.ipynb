{
 "cells": [
  {
   "cell_type": "code",
   "execution_count": null,
   "metadata": {
    "collapsed": false
   },
   "outputs": [],
   "source": [
    "for x in xrange(1,101):\n",
    "    # Check for divisibility by 3 and 5 first\n",
    "    if (x % 3 == 0) and (x % 5 == 0):\n",
    "        print 'CracklePop'\n",
    "    elif x % 3 == 0:\n",
    "        print 'Crackle'\n",
    "    elif x % 5 ==0:\n",
    "        print 'Pop'\n",
    "    else:\n",
    "        print x\n",
    "        "
   ]
  },
  {
   "cell_type": "code",
   "execution_count": 7,
   "metadata": {
    "collapsed": false
   },
   "outputs": [
    {
     "name": "stdout",
     "output_type": "stream",
     "text": [
      "341\n"
     ]
    }
   ],
   "source": [
    "count = 0\n",
    "\n",
    "for x in xrange(3,118):\n",
    "    \n",
    "    # Check for divisibility by 3 and 5 first\n",
    "    if (x % 3 == 0) and (x % 5 == 0):\n",
    "        count += 15\n",
    "    # Elif statement to take care of the other possiblities \n",
    "    elif x % 3 == 0:\n",
    "        count += 3\n",
    "    elif x % 5 ==0:\n",
    "        count += 5\n",
    "    else:\n",
    "        count +=1\n",
    "        \n",
    "print count"
   ]
  },
  {
   "cell_type": "code",
   "execution_count": null,
   "metadata": {
    "collapsed": true
   },
   "outputs": [],
   "source": []
  }
 ],
 "metadata": {
  "kernelspec": {
   "display_name": "Python 2",
   "language": "python",
   "name": "python2"
  },
  "language_info": {
   "codemirror_mode": {
    "name": "ipython",
    "version": 2
   },
   "file_extension": ".py",
   "mimetype": "text/x-python",
   "name": "python",
   "nbconvert_exporter": "python",
   "pygments_lexer": "ipython2",
   "version": "2.7.7"
  }
 },
 "nbformat": 4,
 "nbformat_minor": 0
}
