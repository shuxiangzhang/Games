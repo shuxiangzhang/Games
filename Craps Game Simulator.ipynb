{
 "metadata": {
  "name": "",
  "signature": "sha256:e07f9e636ff1d542fdd74a7ab6d83b5a1659048de69fbb744835c55b7a5b78e6"
 },
 "nbformat": 3,
 "nbformat_minor": 0,
 "worksheets": [
  {
   "cells": [
    {
     "cell_type": "heading",
     "level": 4,
     "metadata": {},
     "source": [
      "This program simulate N games of craps, and then displays visual output of summary statistics.\n",
      "\n",
      "Note: Simulates playing the dark side of craps."
     ]
    },
    {
     "cell_type": "code",
     "collapsed": false,
     "input": [
      "# Imports\n",
      "import numpy as np\n",
      "import pandas as pd\n",
      "import matplotlib\n",
      "import matplotlib.pyplot as plt\n",
      "#import seaborn as sns\n",
      "%matplotlib inline"
     ],
     "language": "python",
     "metadata": {},
     "outputs": [],
     "prompt_number": 102
    },
    {
     "cell_type": "code",
     "collapsed": false,
     "input": [
      "def two_dice_roll(n):\n",
      "    \"\"\" Roll 2 dice n number of times and get sum \"\"\"\n",
      "    d1 = np.random.random_integers(1,6,n)\n",
      "    d2 = np.random.random_integers(1,6,n)\n",
      "    dice_sum = d1 + d2\n",
      "    return dice_sum"
     ],
     "language": "python",
     "metadata": {},
     "outputs": [],
     "prompt_number": 103
    },
    {
     "cell_type": "code",
     "collapsed": false,
     "input": [
      "def craps_game(N,intial_bet,bankroll):\n",
      "    \"\"\" Simulates N number of craps games \"\"\"\n",
      "    print 'starting bankroll is= ' + str(bankroll)\n",
      "    bankroll_tracker = [bankroll]\n",
      "    # For N number of Craps games\n",
      "    for game in range(0,N):\n",
      "        \n",
      "        bet = intial_bet\n",
      "        bankroll -= bet\n",
      "        \n",
      "        # Come out roll\n",
      "        dval = two_dice_roll(1)\n",
      "\n",
      "        # Lose on 7 or 11\n",
      "        if dval == 7 or dval == 11:\n",
      "            status = 'loss'\n",
      "            \n",
      "        # Win on 2 or 3\n",
      "        elif dval == 2 or dval == 3: #Push/Tie on 12\n",
      "            status = 'win'\n",
      "        # Create Point Marker\n",
      "        else:\n",
      "            status = 'come_point'\n",
      "            #play don't pass odds 5x\n",
      "            \n",
      "            odds_played = True\n",
      "            # Take out from your bankroll\n",
      "            bankroll -= (5*bet)\n",
      "            # Then place your odds bets\n",
      "            bet = (5*bet) + bet\n",
      "            \n",
      "            dpoint = dval\n",
      "\n",
      "        # Point roll\n",
      "        while status == 'come_point':\n",
      "            add_roll = two_dice_roll(1)\n",
      "\n",
      "            # Lose if point is hit\n",
      "            if add_roll == dpoint:\n",
      "                status = 'loss'\n",
      "                \n",
      "            # Win if 7 is rolled\n",
      "            elif add_roll == 7:\n",
      "                status = 'win'\n",
      "\n",
      "        if status == 'win':\n",
      "            #win_count += 1\n",
      "            bankroll += 2*bet\n",
      "            bankroll_tracker.append(bankroll)\n",
      "            \n",
      "        else:\n",
      "            bankroll_tracker.append(bankroll)\n",
      "            pass\n",
      "        \n",
      "        \n",
      "    \n",
      "    plt.plot(range(N+1),bankroll_tracker)          \n",
      "    return bankroll\n",
      "              "
     ],
     "language": "python",
     "metadata": {},
     "outputs": [],
     "prompt_number": 104
    },
    {
     "cell_type": "code",
     "collapsed": false,
     "input": [
      "craps_game(50,10,250)"
     ],
     "language": "python",
     "metadata": {},
     "outputs": [
      {
       "output_type": "stream",
       "stream": "stdout",
       "text": [
        "starting bankroll is= 250\n"
       ]
      },
      {
       "metadata": {},
       "output_type": "pyout",
       "prompt_number": 116,
       "text": [
        "150"
       ]
      },
      {
       "metadata": {},
       "output_type": "display_data",
       "png": "[encoded data removed]",
       "text": [
        "<matplotlib.figure.Figure at 0xa4c3690>"
       ]
      }
     ],
     "prompt_number": 116
    },
    {
     "cell_type": "code",
     "collapsed": false,
     "input": [
      "craps_game(10,5,1000)"
     ],
     "language": "python",
     "metadata": {},
     "outputs": [
      {
       "metadata": {},
       "output_type": "pyout",
       "prompt_number": 57,
       "text": [
        "-232040"
       ]
      }
     ],
     "prompt_number": 57
    },
    {
     "cell_type": "code",
     "collapsed": false,
     "input": [],
     "language": "python",
     "metadata": {},
     "outputs": [],
     "prompt_number": 9
    },
    {
     "cell_type": "code",
     "collapsed": false,
     "input": [],
     "language": "python",
     "metadata": {},
     "outputs": []
    }
   ],
   "metadata": {}
  }
 ]
}