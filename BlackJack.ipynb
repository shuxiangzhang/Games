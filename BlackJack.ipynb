{
 "cells": [
  {
   "cell_type": "code",
   "execution_count": 1,
   "metadata": {
    "collapsed": false
   },
   "outputs": [],
   "source": [
    "import pandas as pd"
   ]
  },
  {
   "cell_type": "code",
   "execution_count": 17,
   "metadata": {
    "collapsed": true
   },
   "outputs": [],
   "source": [
    "df = pd.read_clipboard()"
   ]
  },
  {
   "cell_type": "code",
   "execution_count": 20,
   "metadata": {
    "collapsed": false
   },
   "outputs": [
    {
     "data": {
      "text/html": [
       "<div style=\"max-height:1000px;max-width:1500px;overflow:auto;\">\n",
       "<table border=\"1\" class=\"dataframe\">\n",
       "  <thead>\n",
       "    <tr style=\"text-align: right;\">\n",
       "      <th></th>\n",
       "      <th>JOB TITLE</th>\n",
       "      <th>LOCATION</th>\n",
       "      <th>DEPARTMENT</th>\n",
       "    </tr>\n",
       "  </thead>\n",
       "  <tbody>\n",
       "    <tr>\n",
       "      <th>0 </th>\n",
       "      <td>                               Engineering Manager</td>\n",
       "      <td> Cebu City, CV, Philippines</td>\n",
       "      <td>        Engineering</td>\n",
       "    </tr>\n",
       "    <tr>\n",
       "      <th>1 </th>\n",
       "      <td>                            Java Software Engineer</td>\n",
       "      <td> Cebu City, CV, Philippines</td>\n",
       "      <td>        Engineering</td>\n",
       "    </tr>\n",
       "    <tr>\n",
       "      <th>9 </th>\n",
       "      <td>                           Associcate Data Analyst</td>\n",
       "      <td> Cebu City, CV, Philippines</td>\n",
       "      <td> Product Management</td>\n",
       "    </tr>\n",
       "    <tr>\n",
       "      <th>8 </th>\n",
       "      <td>                    Privacy Support Representative</td>\n",
       "      <td> Cebu City, CV, Philippines</td>\n",
       "      <td>         Operations</td>\n",
       "    </tr>\n",
       "    <tr>\n",
       "      <th>4 </th>\n",
       "      <td>                           Human Resources Manager</td>\n",
       "      <td> Cebu City, CV, Philippines</td>\n",
       "      <td>    Human Resources</td>\n",
       "    </tr>\n",
       "    <tr>\n",
       "      <th>6 </th>\n",
       "      <td>    Global Privacy Solutions Manager (Night Shift)</td>\n",
       "      <td> Cebu City, CV, Philippines</td>\n",
       "      <td>         Operations</td>\n",
       "    </tr>\n",
       "    <tr>\n",
       "      <th>5 </th>\n",
       "      <td>       Marketing Automation and Operations Manager</td>\n",
       "      <td>          San Francisco, CA</td>\n",
       "      <td>          Marketing</td>\n",
       "    </tr>\n",
       "    <tr>\n",
       "      <th>7 </th>\n",
       "      <td>               Manager of Global Privacy Solutions</td>\n",
       "      <td>          San Francisco, CA</td>\n",
       "      <td>         Operations</td>\n",
       "    </tr>\n",
       "    <tr>\n",
       "      <th>3 </th>\n",
       "      <td>                         Systems Engineer / DevOps</td>\n",
       "      <td>          San Francisco, CA</td>\n",
       "      <td>        Engineering</td>\n",
       "    </tr>\n",
       "    <tr>\n",
       "      <th>2 </th>\n",
       "      <td>                          Senior Software Engineer</td>\n",
       "      <td>          San Francisco, CA</td>\n",
       "      <td>        Engineering</td>\n",
       "    </tr>\n",
       "    <tr>\n",
       "      <th>10</th>\n",
       "      <td> Senior Mobile App Privacy Analyst / Security R...</td>\n",
       "      <td>          San Francisco, CA</td>\n",
       "      <td> Product Management</td>\n",
       "    </tr>\n",
       "    <tr>\n",
       "      <th>11</th>\n",
       "      <td>                                 Account Executive</td>\n",
       "      <td>          San Francisco, CA</td>\n",
       "      <td>              Sales</td>\n",
       "    </tr>\n",
       "    <tr>\n",
       "      <th>12</th>\n",
       "      <td>                      Enterprise Account Executive</td>\n",
       "      <td>          San Francisco, CA</td>\n",
       "      <td>              Sales</td>\n",
       "    </tr>\n",
       "    <tr>\n",
       "      <th>13</th>\n",
       "      <td>                 Outbound Business Development Rep</td>\n",
       "      <td>          San Francisco, CA</td>\n",
       "      <td>              Sales</td>\n",
       "    </tr>\n",
       "    <tr>\n",
       "      <th>14</th>\n",
       "      <td>                  Sales Development Representative</td>\n",
       "      <td>          San Francisco, CA</td>\n",
       "      <td>              Sales</td>\n",
       "    </tr>\n",
       "    <tr>\n",
       "      <th>15</th>\n",
       "      <td>                            Sales Training Manager</td>\n",
       "      <td>          San Francisco, CA</td>\n",
       "      <td>              Sales</td>\n",
       "    </tr>\n",
       "  </tbody>\n",
       "</table>\n",
       "</div>"
      ],
      "text/plain": [
       "                                            JOB TITLE  \\\n",
       "0                                 Engineering Manager   \n",
       "1                              Java Software Engineer   \n",
       "9                             Associcate Data Analyst   \n",
       "8                      Privacy Support Representative   \n",
       "4                             Human Resources Manager   \n",
       "6      Global Privacy Solutions Manager (Night Shift)   \n",
       "5         Marketing Automation and Operations Manager   \n",
       "7                 Manager of Global Privacy Solutions   \n",
       "3                           Systems Engineer / DevOps   \n",
       "2                            Senior Software Engineer   \n",
       "10  Senior Mobile App Privacy Analyst / Security R...   \n",
       "11                                  Account Executive   \n",
       "12                       Enterprise Account Executive   \n",
       "13                  Outbound Business Development Rep   \n",
       "14                   Sales Development Representative   \n",
       "15                             Sales Training Manager   \n",
       "\n",
       "                      LOCATION          DEPARTMENT  \n",
       "0   Cebu City, CV, Philippines         Engineering  \n",
       "1   Cebu City, CV, Philippines         Engineering  \n",
       "9   Cebu City, CV, Philippines  Product Management  \n",
       "8   Cebu City, CV, Philippines          Operations  \n",
       "4   Cebu City, CV, Philippines     Human Resources  \n",
       "6   Cebu City, CV, Philippines          Operations  \n",
       "5            San Francisco, CA           Marketing  \n",
       "7            San Francisco, CA          Operations  \n",
       "3            San Francisco, CA         Engineering  \n",
       "2            San Francisco, CA         Engineering  \n",
       "10           San Francisco, CA  Product Management  \n",
       "11           San Francisco, CA               Sales  \n",
       "12           San Francisco, CA               Sales  \n",
       "13           San Francisco, CA               Sales  \n",
       "14           San Francisco, CA               Sales  \n",
       "15           San Francisco, CA               Sales  "
      ]
     },
     "execution_count": 20,
     "metadata": {},
     "output_type": "execute_result"
    }
   ],
   "source": [
    "df.sort('LOCATION')"
   ]
  },
  {
   "cell_type": "code",
   "execution_count": 14,
   "metadata": {
    "collapsed": false
   },
   "outputs": [
    {
     "data": {
      "text/plain": [
       "<pandas.core.groupby.DataFrameGroupBy object at 0x000000000AC64080>"
      ]
     },
     "execution_count": 14,
     "metadata": {},
     "output_type": "execute_result"
    }
   ],
   "source": [
    "df"
   ]
  },
  {
   "cell_type": "code",
   "execution_count": 7,
   "metadata": {
    "collapsed": false
   },
   "outputs": [
    {
     "data": {
      "text/plain": [
       "<function pandas.io.clipboard.read_clipboard>"
      ]
     },
     "execution_count": 7,
     "metadata": {},
     "output_type": "execute_result"
    }
   ],
   "source": [
    "df"
   ]
  },
  {
   "cell_type": "code",
   "execution_count": null,
   "metadata": {
    "collapsed": true
   },
   "outputs": [],
   "source": []
  }
 ],
 "metadata": {
  "kernelspec": {
   "display_name": "Python 2",
   "language": "python",
   "name": "python2"
  },
  "language_info": {
   "codemirror_mode": {
    "name": "ipython",
    "version": 2
   },
   "file_extension": ".py",
   "mimetype": "text/x-python",
   "name": "python",
   "nbconvert_exporter": "python",
   "pygments_lexer": "ipython2",
   "version": "2.7.7"
  }
 },
 "nbformat": 4,
 "nbformat_minor": 0
}
